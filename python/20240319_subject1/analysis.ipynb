{
 "cells": [
  {
   "cell_type": "code",
   "execution_count": null,
   "metadata": {},
   "outputs": [],
   "source": [
    "# importing rampy\n",
    "import rampy as rp\n",
    "# and for numpy we will respect the usual name:\n",
    "import numpy as np\n",
    "# for matplotlib\n",
    "import matplotlib.pyplot as plt\n",
    "from pydantic import BaseModel"
   ]
  },
  {
   "cell_type": "markdown",
   "metadata": {},
   "source": [
    "# Experiment Subject 1\n",
    "\n",
    "We performed OGTT on subject 1.\n",
    "\n",
    "Here is the glucose concentration in blood during the 2 hour\n",
    "\n",
    "| Time     | Concentration | filename |\n",
    "|----------|---------------|----------|\n",
    "| Predrink | 93            | pre      |\n",
    "| 8:30     | 94            | 0        |\n",
    "| 8:35     | 97            | 1        |\n",
    "| 8:40     | 101           | 2        |\n",
    "| 8:45     | 126           | 3        |\n",
    "| 8:50     | 142           | 4        |\n",
    "| 8:55     | 161           | 5        |\n",
    "| 9:00     | 152           | 6        |\n",
    "| 9:05     | 159           | 7        |\n",
    "| 9:10     | 160           | 8        |\n",
    "| 9:15     | 156           | 9        |\n",
    "| 9:20     | 155           | 10       |\n",
    "| 9:25     | 151           | 11       |\n",
    "| 9:30     | 135           | 12       |\n",
    "| 9:35     | 124           | 13       |\n",
    "| 9:40     | 112           | 14       |\n",
    "| 9:45     | 102           | 15       |\n",
    "| 9:50     | 107           | 16       |\n",
    "| 9:55     | 121           | 17       |\n",
    "| 10:00    | 125           | 18       |\n",
    "| 10:05    | 120           | 19       |\n",
    "| 10:10    | 124           | 20       |\n",
    "| 10:15    | 123           | 21       |\n",
    "| 10:20    | 112           | 22       |\n",
    "| 10:25    | 109           | 23       |\n",
    "| 10:30    | 100           | 24       |"
   ]
  },
  {
   "cell_type": "markdown",
   "metadata": {},
   "source": []
  }
 ],
 "metadata": {
  "kernelspec": {
   "display_name": "raman",
   "language": "python",
   "name": "raman"
  },
  "language_info": {
   "name": "python",
   "version": "3.10.13"
  }
 },
 "nbformat": 4,
 "nbformat_minor": 2
}
